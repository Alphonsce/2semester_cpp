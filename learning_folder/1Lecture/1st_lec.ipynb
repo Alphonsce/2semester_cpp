{
 "cells": [
  {
   "cell_type": "markdown",
   "metadata": {},
   "source": [
    "## Первая лекция Хирьянова. Синтаксис C++"
   ]
  },
  {
   "cell_type": "code",
   "execution_count": 4,
   "metadata": {},
   "outputs": [],
   "source": [
    "#include <iostream>     // библиотека, подключающая поток ввода/вывода\n",
    "#include <string>\n",
    "#include <vector>\n",
    "\n",
    "//using namespace std;\n",
    "\n",
    "int main ()     // main function, int stands here for return type, because we return 0 at the end of the main function\n",
    "{\n",
    "//std - пространство имен, допустим у нас есть две одинаково названные функции cout, но мы используем именно cout из пространства имен std\n",
    "// namespaces prevents name conflicts\n",
    "//we can use using namespace std, which means we will import everything from std\n",
    "// cout is an object of a class here, он типо экземпляр класса ostream\n",
    "// << - это оператор, cout и \"Hello World!\\n\" - операнды\n",
    "    std::cout << \"Hello World!\\n\";\n",
    "    return 0;\n",
    "}\n",
    "\n",
    "// ./a.out"
   ]
  }
 ],
 "metadata": {
  "interpreter": {
   "hash": "a1fa0a8de7e085f7bc2d661f00dd09c51348276461d5787ab74835cd27baf12b"
  },
  "kernelspec": {
   "display_name": "C++11",
   "language": "C++11",
   "name": "python3812jvsc74a57bd0a1fa0a8de7e085f7bc2d661f00dd09c51348276461d5787ab74835cd27baf12b"
  },
  "language_info": {
   "codemirror_mode": "text/x-c++src",
   "file_extension": ".cpp",
   "mimetype": "text/x-c++src",
   "name": "c++",
   "version": "11"
  },
  "orig_nbformat": 4
 },
 "nbformat": 4,
 "nbformat_minor": 2
}
